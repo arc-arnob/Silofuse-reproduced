{
 "cells": [
  {
   "cell_type": "code",
   "execution_count": 1,
   "metadata": {},
   "outputs": [],
   "source": [
    "import numpy as np\n",
    "import pandas as pd\n",
    "from sklearn.model_selection import train_test_split\n",
    "import os\n",
    "import tomli\n",
    "import toml\n",
    "import subprocess\n",
    "import json"
   ]
  },
  {
   "cell_type": "code",
   "execution_count": 2,
   "metadata": {},
   "outputs": [],
   "source": [
    "dataset = \"bank_latent\""
   ]
  },
  {
   "cell_type": "code",
   "execution_count": 3,
   "metadata": {},
   "outputs": [],
   "source": [
    "# This csv file will be the entry point from the variational auto encoder part\n",
    "data = pd.read_csv(\"../../data/processed/bank,.csv\")\n",
    "X = data.iloc[:, :-1].values\n",
    "y = data.iloc[:, -1].values"
   ]
  },
  {
   "cell_type": "code",
   "execution_count": 4,
   "metadata": {},
   "outputs": [],
   "source": [
    "idx = np.arange(0, X.shape[0])\n",
    "train_idx, test_idx = train_test_split(idx, test_size =0.3, random_state=42)\n",
    "val_idx, test_idx,  = train_test_split(test_idx, test_size =0.5, random_state=42)\n",
    "X_train, X_val, X_test = X[train_idx], X[val_idx], X[test_idx]\n",
    "y_train, y_val, y_test = y[train_idx], y[val_idx], y[test_idx]"
   ]
  },
  {
   "cell_type": "code",
   "execution_count": 5,
   "metadata": {},
   "outputs": [
    {
     "name": "stdout",
     "output_type": "stream",
     "text": [
      "3500 750 750\n"
     ]
    }
   ],
   "source": [
    "train_size, valu_size, test_size = X_train.shape[0], X_val.shape[0], X_test.shape[0]\n",
    "print(train_size, valu_size, test_size)"
   ]
  },
  {
   "cell_type": "code",
   "execution_count": 6,
   "metadata": {},
   "outputs": [
    {
     "ename": "FileNotFoundError",
     "evalue": "[Errno 2] No such file or directory: '../data/bank_latent/X_num_train.npy'",
     "output_type": "error",
     "traceback": [
      "\u001b[0;31m---------------------------------------------------------------------------\u001b[0m",
      "\u001b[0;31mFileNotFoundError\u001b[0m                         Traceback (most recent call last)",
      "Cell \u001b[0;32mIn[6], line 1\u001b[0m\n\u001b[0;32m----> 1\u001b[0m np\u001b[39m.\u001b[39;49msave(\u001b[39mf\u001b[39;49m\u001b[39m'\u001b[39;49m\u001b[39m../data/\u001b[39;49m\u001b[39m{\u001b[39;49;00mdataset\u001b[39m}\u001b[39;49;00m\u001b[39m/X_num_train.npy\u001b[39;49m\u001b[39m'\u001b[39;49m, X_train)\n\u001b[1;32m      2\u001b[0m np\u001b[39m.\u001b[39msave(\u001b[39mf\u001b[39m\u001b[39m'\u001b[39m\u001b[39m../data/\u001b[39m\u001b[39m{\u001b[39;00mdataset\u001b[39m}\u001b[39;00m\u001b[39m/X_num_val.npy\u001b[39m\u001b[39m'\u001b[39m, X_val)\n\u001b[1;32m      3\u001b[0m np\u001b[39m.\u001b[39msave(\u001b[39mf\u001b[39m\u001b[39m'\u001b[39m\u001b[39m../data/\u001b[39m\u001b[39m{\u001b[39;00mdataset\u001b[39m}\u001b[39;00m\u001b[39m/X_num_test.npy\u001b[39m\u001b[39m'\u001b[39m, X_test)\n",
      "File \u001b[0;32m~/anaconda3/envs/distributed-3-9/lib/python3.9/site-packages/numpy/lib/npyio.py:542\u001b[0m, in \u001b[0;36msave\u001b[0;34m(file, arr, allow_pickle, fix_imports)\u001b[0m\n\u001b[1;32m    540\u001b[0m     \u001b[39mif\u001b[39;00m \u001b[39mnot\u001b[39;00m file\u001b[39m.\u001b[39mendswith(\u001b[39m'\u001b[39m\u001b[39m.npy\u001b[39m\u001b[39m'\u001b[39m):\n\u001b[1;32m    541\u001b[0m         file \u001b[39m=\u001b[39m file \u001b[39m+\u001b[39m \u001b[39m'\u001b[39m\u001b[39m.npy\u001b[39m\u001b[39m'\u001b[39m\n\u001b[0;32m--> 542\u001b[0m     file_ctx \u001b[39m=\u001b[39m \u001b[39mopen\u001b[39;49m(file, \u001b[39m\"\u001b[39;49m\u001b[39mwb\u001b[39;49m\u001b[39m\"\u001b[39;49m)\n\u001b[1;32m    544\u001b[0m \u001b[39mwith\u001b[39;00m file_ctx \u001b[39mas\u001b[39;00m fid:\n\u001b[1;32m    545\u001b[0m     arr \u001b[39m=\u001b[39m np\u001b[39m.\u001b[39masanyarray(arr)\n",
      "\u001b[0;31mFileNotFoundError\u001b[0m: [Errno 2] No such file or directory: '../data/bank_latent/X_num_train.npy'"
     ]
    }
   ],
   "source": [
    "np.save(f'../data/{dataset}/X_num_train.npy', X_train)\n",
    "np.save(f'../data/{dataset}/X_num_val.npy', X_val)\n",
    "np.save(f'../data/{dataset}/X_num_test.npy', X_test)"
   ]
  },
  {
   "cell_type": "code",
   "execution_count": null,
   "metadata": {},
   "outputs": [],
   "source": [
    "np.save(f'../data/{dataset}/y_train.npy', y_train)\n",
    "np.save(f'../data/{dataset}/y_val.npy', y_val)\n",
    "np.save(f'../data/{dataset}/y_test.npy', y_test)"
   ]
  },
  {
   "cell_type": "code",
   "execution_count": 7,
   "metadata": {},
   "outputs": [],
   "source": [
    "num_feature_size, cat_features_size = 9, 0 # These are default considering latent size of each client is 3 in VAE"
   ]
  },
  {
   "cell_type": "code",
   "execution_count": 8,
   "metadata": {},
   "outputs": [],
   "source": [
    "info_file = {\n",
    "    \"task_type\": \"binclass\",\n",
    "    \"name\": f\"{dataset}\",\n",
    "    \"id\": f\"{dataset}--id\",\n",
    "    \"train_size\": train_size,\n",
    "    \"val_size\": valu_size,\n",
    "    \"test_size\": test_size,\n",
    "    \"n_num_features\": num_feature_size,\n",
    "    \"n_cat_features\": cat_features_size\n",
    "}"
   ]
  },
  {
   "cell_type": "code",
   "execution_count": 9,
   "metadata": {},
   "outputs": [],
   "source": [
    "os.makedirs(f\"../data/{dataset}\", exist_ok=True)"
   ]
  },
  {
   "cell_type": "code",
   "execution_count": 10,
   "metadata": {},
   "outputs": [],
   "source": [
    "with open(f\"../data/{dataset}/info.json\", \"w\") as info_writer:\n",
    "    json.dump(info_file, info_writer)"
   ]
  },
  {
   "cell_type": "code",
   "execution_count": 11,
   "metadata": {},
   "outputs": [],
   "source": [
    "os.makedirs(f\"../exp/{dataset}\", exist_ok=True)"
   ]
  },
  {
   "cell_type": "code",
   "execution_count": 12,
   "metadata": {},
   "outputs": [],
   "source": [
    "config_file = {\n",
    "    'seed': 0,\n",
    "    'parent_dir': f'../exp/{dataset}/',\n",
    "    'real_data_path': f'../data/{dataset}/',\n",
    "    'model_type': 'mlp',\n",
    "    'num_numerical_features': num_feature_size,   # Set the number of numerical features here\n",
    "    'device': 'cuda:0',  \n",
    "    'model_params': {       # Change the denoising architecture here as per your liking\n",
    "        'd_in': 8,\n",
    "        'num_classes': 2,\n",
    "        'is_y_cond': True,\n",
    "        'rtdl_params': {\n",
    "            'd_layers': [\n",
    "                128,\n",
    "                512\n",
    "            ],\n",
    "            'dropout': 0.0\n",
    "        }\n",
    "    },\n",
    "    'diffusion_params': {\n",
    "        'num_timesteps': 1000,\n",
    "        'gaussian_loss_type': 'mse'\n",
    "    },\n",
    "    'train': {\n",
    "        'main': {\n",
    "            'steps': 30000,\n",
    "            'lr': 1.1510940031144828e-05,\n",
    "            'weight_decay': 0.0,\n",
    "            'batch_size': 4096\n",
    "        },\n",
    "        'T': {\n",
    "            'seed': 0,\n",
    "            'normalization': 'quantile',\n",
    "            'num_nan_policy': '__none__',\n",
    "            'cat_nan_policy': '__none__',\n",
    "            'cat_min_frequency': '__none__',\n",
    "            'cat_encoding': '__none__',\n",
    "            'y_policy': 'default'\n",
    "        }\n",
    "    },\n",
    "    'sample': {\n",
    "        'num_samples': 768,\n",
    "        'batch_size': 500,\n",
    "        'seed': 0\n",
    "    },\n",
    "    'eval': {\n",
    "        'type': {\n",
    "            'eval_model': 'catboost',\n",
    "            'eval_type': 'synthetic'\n",
    "        },\n",
    "        'T': {\n",
    "            'seed': 0,\n",
    "            'normalization': '__none__',\n",
    "            'num_nan_policy': '__none__',\n",
    "            'cat_nan_policy': '__none__',\n",
    "            'cat_min_frequency': '__none__',\n",
    "            'cat_encoding': '__none__',\n",
    "            'y_policy': 'default'\n",
    "        }\n",
    "    }\n",
    "}"
   ]
  },
  {
   "cell_type": "code",
   "execution_count": 13,
   "metadata": {},
   "outputs": [],
   "source": [
    "with open(f\"../exp/{dataset}/config.toml\", 'w') as toml_file:\n",
    "    toml.dump(config_file, toml_file)"
   ]
  },
  {
   "cell_type": "code",
   "execution_count": 14,
   "metadata": {},
   "outputs": [],
   "source": [
    "command = [\n",
    "    \"python\", \n",
    "    \"pipeline.py\", \n",
    "    \"--config\", f\"../exp/{dataset}/config.toml\", \n",
    "    \"--train\", \n",
    "    \"--sample\"\n",
    "]\n",
    "result = subprocess.run(command, capture_output=True, text=True)"
   ]
  },
  {
   "cell_type": "code",
   "execution_count": 15,
   "metadata": {},
   "outputs": [
    {
     "data": {
      "text/plain": [
       "'Traceback (most recent call last):\\n  File \"/Users/arnobchowdhury/Documents/university_work/Thesis/Silofuse/central_backbone/scripts/pipeline.py\", line 5, in <module>\\n    from train import train\\n  File \"/Users/arnobchowdhury/Documents/university_work/Thesis/Silofuse/central_backbone/scripts/train.py\", line 5, in <module>\\n    import zero\\nModuleNotFoundError: No module named \\'zero\\'\\n'"
      ]
     },
     "execution_count": 15,
     "metadata": {},
     "output_type": "execute_result"
    }
   ],
   "source": [
    "result.stderr"
   ]
  },
  {
   "cell_type": "code",
   "execution_count": null,
   "metadata": {},
   "outputs": [],
   "source": []
  },
  {
   "cell_type": "code",
   "execution_count": null,
   "metadata": {},
   "outputs": [],
   "source": []
  }
 ],
 "metadata": {
  "kernelspec": {
   "display_name": "Python 3.9.19 ('distributed-3-9')",
   "language": "python",
   "name": "python3"
  },
  "language_info": {
   "codemirror_mode": {
    "name": "ipython",
    "version": 3
   },
   "file_extension": ".py",
   "mimetype": "text/x-python",
   "name": "python",
   "nbconvert_exporter": "python",
   "pygments_lexer": "ipython3",
   "version": "3.9.19"
  },
  "vscode": {
   "interpreter": {
    "hash": "71c2bb8a9aafac3189ddd139a8a38ed74f79c7c3756567015645529460b394b7"
   }
  }
 },
 "nbformat": 4,
 "nbformat_minor": 2
}
