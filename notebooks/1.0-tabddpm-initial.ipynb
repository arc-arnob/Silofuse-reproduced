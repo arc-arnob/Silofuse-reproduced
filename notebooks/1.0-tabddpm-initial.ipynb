{
 "cells": [
  {
   "cell_type": "code",
   "execution_count": 1,
   "metadata": {},
   "outputs": [],
   "source": [
    "import numpy as np"
   ]
  },
  {
   "cell_type": "code",
   "execution_count": 2,
   "metadata": {},
   "outputs": [],
   "source": [
    "data = np.load(\"../central_backbone/data/bank_latent/X_num_train.npy\")"
   ]
  },
  {
   "cell_type": "code",
   "execution_count": 3,
   "metadata": {},
   "outputs": [
    {
     "data": {
      "text/plain": [
       "array([[-0.58983094,  0.19307014, -0.13754937, ..., -0.2625656 ,\n",
       "        -0.6426536 ,  0.98967373],\n",
       "       [-0.23492284,  1.2195517 , -0.4201327 , ...,  0.09675718,\n",
       "         2.1996915 , -0.3068549 ],\n",
       "       [-1.5884005 ,  1.3184355 ,  0.7192243 , ...,  0.37814105,\n",
       "         0.84655917, -0.98277587],\n",
       "       ...,\n",
       "       [-0.43654191,  2.3567696 , -0.48451373, ..., -0.5412664 ,\n",
       "         0.49754658, -0.67162   ],\n",
       "       [-0.54410225,  1.4592671 ,  1.8718106 , ..., -0.6192475 ,\n",
       "        -0.7352867 ,  0.21729122],\n",
       "       [-1.0064276 , -0.28960082,  1.1147251 , ..., -2.1898177 ,\n",
       "        -0.3553818 , -1.5230154 ]])"
      ]
     },
     "execution_count": 3,
     "metadata": {},
     "output_type": "execute_result"
    }
   ],
   "source": [
    "data"
   ]
  },
  {
   "cell_type": "code",
   "execution_count": null,
   "metadata": {},
   "outputs": [],
   "source": []
  }
 ],
 "metadata": {
  "kernelspec": {
   "display_name": "Python 3.9.19 ('distributed-3-9')",
   "language": "python",
   "name": "python3"
  },
  "language_info": {
   "codemirror_mode": {
    "name": "ipython",
    "version": 3
   },
   "file_extension": ".py",
   "mimetype": "text/x-python",
   "name": "python",
   "nbconvert_exporter": "python",
   "pygments_lexer": "ipython3",
   "version": "3.9.19"
  },
  "orig_nbformat": 4,
  "vscode": {
   "interpreter": {
    "hash": "71c2bb8a9aafac3189ddd139a8a38ed74f79c7c3756567015645529460b394b7"
   }
  }
 },
 "nbformat": 4,
 "nbformat_minor": 2
}
